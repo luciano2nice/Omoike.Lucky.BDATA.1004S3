{
 "cells": [
  {
   "cell_type": "markdown",
   "id": "2c250826",
   "metadata": {},
   "source": [
    "# BDAT 1004 – Data Programming"
   ]
  },
  {
   "cell_type": "markdown",
   "id": "3cc6e6e0",
   "metadata": {},
   "source": [
    "# Q1"
   ]
  },
  {
   "cell_type": "code",
   "execution_count": 1,
   "id": "bd0e5641",
   "metadata": {},
   "outputs": [
    {
     "name": "stdout",
     "output_type": "stream",
     "text": [
      "<class 'int'>\n",
      "<class 'float'>\n",
      "<class 'bool'>\n",
      "<class 'str'>\n",
      "<class 'int'>\n",
      "<class 'str'>\n",
      "<class 'str'>\n",
      "<class 'float'>\n",
      "<class 'int'>\n",
      "<class 'set'>\n",
      "<class 'bool'>\n",
      "<class 'float'>\n"
     ]
    }
   ],
   "source": [
    "# Data type evaluation\n",
    "print(type(5))            \n",
    "print(type(5.0))          \n",
    "print(type(5 > 1))        \n",
    "print(type('5'))          \n",
    "print(type(5 * 2))        \n",
    "print(type('5' * 2))    \n",
    "print(type('5' + '2'))    \n",
    "print(type(5 / 2))       \n",
    "print(type(5 % 2))       \n",
    "print(type({5, 2, 1}))    \n",
    "print(type(5 == 3))       \n",
    "print(type(3.14159))      "
   ]
  },
  {
   "cell_type": "markdown",
   "id": "3ee2bd9c",
   "metadata": {},
   "source": [
    "# Q2 "
   ]
  },
  {
   "cell_type": "code",
   "execution_count": 2,
   "id": "acfd6208",
   "metadata": {},
   "outputs": [
    {
     "name": "stdout",
     "output_type": "stream",
     "text": [
      "34\n"
     ]
    }
   ],
   "source": [
    "word = 'Supercalifragilisticexpialidocious'\n",
    "letter_count = len(word)\n",
    "print(letter_count)  \n"
   ]
  },
  {
   "cell_type": "markdown",
   "id": "6506aec8",
   "metadata": {},
   "source": [
    "b)."
   ]
  },
  {
   "cell_type": "code",
   "execution_count": 3,
   "id": "fe684bd3",
   "metadata": {},
   "outputs": [
    {
     "name": "stdout",
     "output_type": "stream",
     "text": [
      "True\n"
     ]
    }
   ],
   "source": [
    "word = 'Supercalifragilisticexpialidocious'\n",
    "substring = 'ice'\n",
    "contains_substring = substring in word\n",
    "print(contains_substring)  \n"
   ]
  },
  {
   "cell_type": "markdown",
   "id": "9176c6b5",
   "metadata": {},
   "source": [
    "c)."
   ]
  },
  {
   "cell_type": "code",
   "execution_count": 4,
   "id": "4704df97",
   "metadata": {},
   "outputs": [
    {
     "name": "stdout",
     "output_type": "stream",
     "text": [
      "Supercalifragilisticexpialidocious\n"
     ]
    }
   ],
   "source": [
    "words = ['Supercalifragilisticexpialidocious', 'Honorificabilitudinitatibus', 'Bababadalgharaghtakamminarronnkonn']\n",
    "longest_word = max(words, key=len)\n",
    "print(longest_word)  \n"
   ]
  },
  {
   "cell_type": "markdown",
   "id": "4d77c9fb",
   "metadata": {},
   "source": [
    "d)."
   ]
  },
  {
   "cell_type": "code",
   "execution_count": 5,
   "id": "22a86376",
   "metadata": {},
   "outputs": [
    {
     "name": "stdout",
     "output_type": "stream",
     "text": [
      "Bartok\n",
      "Buxtehude\n"
     ]
    }
   ],
   "source": [
    "composers = ['Berlioz', 'Borodin', 'Brian', 'Bartok', 'Bellini', 'Buxtehude', 'Bernstein']\n",
    "first_composer = min(composers)\n",
    "last_composer = max(composers)\n",
    "print(first_composer)  \n",
    "print(last_composer)   "
   ]
  },
  {
   "cell_type": "markdown",
   "id": "d93fc927",
   "metadata": {},
   "source": [
    "# Q3"
   ]
  },
  {
   "cell_type": "code",
   "execution_count": 14,
   "id": "685021c6",
   "metadata": {},
   "outputs": [
    {
     "name": "stdout",
     "output_type": "stream",
     "text": [
      "Enter the length of side a: 2\n",
      "Enter the length of side b: 2\n",
      "Enter the length of side c: 2\n",
      "The area of the triangle is: 1.73\n"
     ]
    }
   ],
   "source": [
    "import math\n",
    "\n",
    "def triangleArea(a, b, c):\n",
    "    s = (a + b + c) / 2\n",
    "    area = math.sqrt(s * (s - a) * (s - b) * (s - c))\n",
    "    return area\n",
    "\n",
    "# User input\n",
    "a = float(input(\"Enter the length of side a: \"))\n",
    "b = float(input(\"Enter the length of side b: \"))\n",
    "c = float(input(\"Enter the length of side c: \"))\n",
    "\n",
    "# Calculation\n",
    "area = triangleArea(a, b, c)\n",
    "print(f\"The area of the triangle is: {area:.2f}\")\n"
   ]
  },
  {
   "cell_type": "markdown",
   "id": "a70f2403",
   "metadata": {},
   "source": [
    "# Q4"
   ]
  },
  {
   "cell_type": "code",
   "execution_count": 7,
   "id": "f0d2ced3",
   "metadata": {},
   "outputs": [
    {
     "name": "stdout",
     "output_type": "stream",
     "text": [
      "Input the number of elements to be stored in the array: 5\n",
      "Input 5 elements in the array:\n",
      "element - 0: 25\n",
      "element - 1: 47\n",
      "element - 2: 42\n",
      "element - 3: 56\n",
      "element - 4: 32\n",
      "The Even elements are:\n",
      "42 56 32 \n",
      "The Odd elements are:\n",
      "25 47 "
     ]
    }
   ],
   "source": [
    "def separateOddEven(num_elements):\n",
    "    # Initialize empty lists for odd and even numbers\n",
    "    odd_numbers = []\n",
    "    even_numbers = []\n",
    "\n",
    "    # Input elements into the array\n",
    "    print(\"Input\", num_elements, \"elements in the array:\")\n",
    "    for i in range(num_elements):\n",
    "        element = int(input(\"element - {}: \".format(i)))\n",
    "        if element % 2 == 0:\n",
    "            even_numbers.append(element)\n",
    "        else:\n",
    "            odd_numbers.append(element)\n",
    "\n",
    "    # Print the separated odd and even numbers\n",
    "    print(\"The Even elements are:\")\n",
    "    for even in even_numbers:\n",
    "        print(even, end=\" \")\n",
    "    print()\n",
    "    print(\"The Odd elements are:\")\n",
    "    for odd in odd_numbers:\n",
    "        print(odd, end=\" \")\n",
    "\n",
    "\n",
    "# Get the number of elements from the user\n",
    "num_elements = int(input(\"Input the number of elements to be stored in the array: \"))\n",
    "\n",
    "# Call the function to separate odd and even numbers\n",
    "separateOddEven(num_elements)\n"
   ]
  },
  {
   "cell_type": "markdown",
   "id": "831838cd",
   "metadata": {},
   "source": [
    "# Q5"
   ]
  },
  {
   "cell_type": "code",
   "execution_count": 2,
   "id": "c0952a09",
   "metadata": {},
   "outputs": [
    {
     "name": "stdout",
     "output_type": "stream",
     "text": [
      "Enter the x-coordinate of the point: 1\n",
      "Enter the y-coordinate of the point: 1\n",
      "Enter the x-coordinate of the lower left corner: 0\n",
      "Enter the y-coordinate of the lower left corner: 0\n",
      "Enter the x-coordinate of the upper right corner: 2\n",
      "Enter the y-coordinate of the upper right corner: 3\n",
      "True. The point lies inside the rectangle.\n",
      "\n",
      "\n",
      "Enter the x-coordinate of the point: -1\n",
      "Enter the y-coordinate of the point: -1\n",
      "Enter the x-coordinate of the lower left corner: 0\n",
      "Enter the y-coordinate of the lower left corner: 0\n",
      "Enter the x-coordinate of the upper right corner: 2\n",
      "Enter the y-coordinate of the upper right corner: 3\n",
      "\n",
      "False. The point does not lie inside the rectangle.\n"
     ]
    }
   ],
   "source": [
    "def inside(x, y, x1, y1, x2, y2):\n",
    "    if x >= x1 and x <= x2 and y >= y1 and y <= y2:\n",
    "        return True\n",
    "    else:\n",
    "        return False\n",
    "\n",
    "# User input\n",
    "x = float(input(\"Enter the x-coordinate of the point: \"))\n",
    "y = float(input(\"Enter the y-coordinate of the point: \"))\n",
    "x1 = float(input(\"Enter the x-coordinate of the lower left corner: \"))\n",
    "y1 = float(input(\"Enter the y-coordinate of the lower left corner: \"))\n",
    "x2 = float(input(\"Enter the x-coordinate of the upper right corner: \"))\n",
    "y2 = float(input(\"Enter the y-coordinate of the upper right corner: \"))\n",
    "\n",
    "# Check if point is inside the rectangle\n",
    "result1 = inside(x, y, x1, y1, x2, y2)\n",
    "\n",
    "# Display the result\n",
    "if result1:\n",
    "    print(\"True. The point lies inside the rectangle.\")\n",
    "else:\n",
    "    print(\"False. The point does not lie inside the rectangle.\")\n",
    "    \n",
    "\n",
    "# User input\n",
    "x = float(input(\"\\n\\nEnter the x-coordinate of the point: \"))\n",
    "y = float(input(\"Enter the y-coordinate of the point: \"))\n",
    "x1 = float(input(\"Enter the x-coordinate of the lower left corner: \"))\n",
    "y1 = float(input(\"Enter the y-coordinate of the lower left corner: \"))\n",
    "x2 = float(input(\"Enter the x-coordinate of the upper right corner: \"))\n",
    "y2 = float(input(\"Enter the y-coordinate of the upper right corner: \"))\n",
    "    \n",
    "# Check if point is inside the rectangle\n",
    "result2 = inside(x, y, x1, y1, x2, y2)\n",
    "\n",
    "# Display the result\n",
    "if result2:\n",
    "    print(\"\\nTrue. The point lies inside the rectangle.\")\n",
    "else:\n",
    "    print(\"\\nFalse. The point does not lie inside the rectangle.\")\n",
    "\n"
   ]
  },
  {
   "cell_type": "markdown",
   "id": "d41568c3",
   "metadata": {},
   "source": [
    "# Q6"
   ]
  },
  {
   "cell_type": "code",
   "execution_count": 1,
   "id": "30c3ca35",
   "metadata": {},
   "outputs": [
    {
     "name": "stdout",
     "output_type": "stream",
     "text": [
      "Enter the first word: happy\n",
      "Enter the second word: Enter\n",
      "The pig Latin form of 'happy' is 'appyhay'\n",
      "The pig Latin form of 'Enter' is 'enterway'\n"
     ]
    }
   ],
   "source": [
    "def pig(word):\n",
    "    vowels = ['a', 'e', 'i', 'o', 'u']\n",
    "    word = word.lower()\n",
    "    \n",
    "    if word[0] in vowels:\n",
    "        pig_word = word + 'way'\n",
    "    else:\n",
    "        pig_word = word[1:] + word[0] + 'ay'\n",
    "    \n",
    "    return pig_word\n",
    "\n",
    "# User input\n",
    "word1 = input(\"Enter the first word: \")\n",
    "word2 = input(\"Enter the second word: \")\n",
    "\n",
    "# Convert the words to pig Latin\n",
    "pig_word1 = pig(word1)\n",
    "print(f\"The pig Latin form of '{word1}' is '{pig_word1}'\")\n",
    "\n",
    "pig_word2 = pig(word2)\n",
    "print(f\"The pig Latin form of '{word2}' is '{pig_word2}'\")\n",
    "\n"
   ]
  },
  {
   "cell_type": "markdown",
   "id": "d047a327",
   "metadata": {},
   "source": [
    "# Q7"
   ]
  },
  {
   "cell_type": "code",
   "execution_count": 4,
   "id": "b50bc3d3",
   "metadata": {},
   "outputs": [
    {
     "name": "stdout",
     "output_type": "stream",
     "text": [
      "There are 15 patients of blood type A.\n",
      "There is 1 patient of blood type B.\n",
      "There are 13 patients of blood type AB.\n",
      "There are 15 patients of blood type O.\n",
      "There are 0 patients of blood type OO.\n"
     ]
    }
   ],
   "source": [
    "def bldcount(filename):\n",
    "    blood_types = ['A', 'B', 'AB', 'O', 'OO']\n",
    "    count = [0] * len(blood_types)\n",
    "\n",
    "    try:\n",
    "        with open(filename, 'r') as file:\n",
    "            for line in file:\n",
    "                line = line.strip()\n",
    "                if line in blood_types:\n",
    "                    index = blood_types.index(line)\n",
    "                    count[index] += 1\n",
    "\n",
    "        for i, blood_type in enumerate(blood_types):\n",
    "            if count[i] == 1:\n",
    "                print(f\"There is 1 patient of blood type {blood_type}.\")\n",
    "            else:\n",
    "                print(f\"There are {count[i]} patients of blood type {blood_type}.\")\n",
    "\n",
    "    except FileNotFoundError:\n",
    "        print(f\"File '{filename}' not found.\")\n",
    "        \n",
    "        \n",
    "bldcount('bloodtype.txt')"
   ]
  },
  {
   "cell_type": "markdown",
   "id": "10247f36",
   "metadata": {},
   "source": [
    "# Q8"
   ]
  },
  {
   "cell_type": "code",
   "execution_count": 1,
   "id": "4f6425ad",
   "metadata": {},
   "outputs": [
    {
     "name": "stdout",
     "output_type": "stream",
     "text": [
      "Enter the currency: EUR\n",
      "Enter the amount: 1\n",
      "122.96544\n",
      "Enter the currency: JPY\n",
      "Enter the amount: 1\n",
      "1.241401\n"
     ]
    }
   ],
   "source": [
    "def curconv():\n",
    "    # Read currency prices from the text file and store them in a dictionary\n",
    "    currency_dict = {}\n",
    "    with open(\"currencies.txt\", \"r\") as file:\n",
    "        for line in file:\n",
    "            currency, price = line.split()\n",
    "            currency_dict[currency] = float(price)\n",
    "\n",
    "    # Take input from the user\n",
    "    currency = input(\"Enter the currency: \")\n",
    "    amount = float(input(\"Enter the amount: \"))\n",
    "\n",
    "    # Convert the amount to US dollars\n",
    "    if currency in currency_dict:\n",
    "        usd_amount = amount * (currency_dict[currency]) * 100\n",
    "        return usd_amount\n",
    "    else:\n",
    "        return \"Currency not found in the list.\"\n",
    "\n",
    "# Example usage\n",
    "result1 = curconv()\n",
    "print(result1)\n",
    "\n",
    "def curconv():\n",
    "    # Read currency prices from the text file and store them in a dictionary\n",
    "    currency_dict = {}\n",
    "    with open(\"currencies.txt\", \"r\") as file:\n",
    "        for line in file:\n",
    "            currency, price = line.split()\n",
    "            currency_dict[currency] = float(price)\n",
    "\n",
    "    # Take input from the user\n",
    "    currency = input(\"Enter the currency: \")\n",
    "    amount = float(input(\"Enter the amount: \"))\n",
    "\n",
    "    # Convert the amount to US dollars\n",
    "    if currency in currency_dict:\n",
    "        usd_amount = amount * (currency_dict[currency]) * 100\n",
    "        return usd_amount\n",
    "    else:\n",
    "        return \"Currency not found in the list.\"\n",
    "\n",
    "# Example usage\n",
    "result2 = curconv()\n",
    "print(result2)"
   ]
  },
  {
   "cell_type": "markdown",
   "id": "d027204f",
   "metadata": {},
   "source": [
    "# Q9"
   ]
  },
  {
   "cell_type": "markdown",
   "id": "06065add",
   "metadata": {},
   "source": [
    "Trying to add incompatible variables, as in adding 6 + 'a':\n",
    "This will cause a TypeError because you are attempting to perform addition between an integer (6) and a string ('a'), which are incompatible types for addition.\n",
    "\n",
    "Referring to the 12th item of a list that has only 10 items:\n",
    "This will cause an IndexError because you are trying to access an index (12) that is out of range for the given list. Since the list has only 10 items, valid indices range from 0 to 9.\n",
    "\n",
    "Using a value that is out of range for a function's input, such as calling math.sqrt(-1.0):\n",
    "This will cause a ValueError because the math.sqrt() function expects a non-negative input value to calculate the square root. When you provide a negative value (-1.0), it is considered out of the valid range for the function.\n",
    "\n",
    "Using an undeclared variable, such as print(x) when x has not been defined:\n",
    "This will cause a NameError because you are trying to use a variable (x) that has not been declared or assigned a value. Python will raise an exception indicating that the variable is not defined.\n",
    "\n",
    "Trying to open a file that does not exist, such as mistyping the file name or looking in the wrong directory:\n",
    "This will cause a FileNotFoundError because the file you are trying to open does not exist at the specified path. Python will raise an exception indicating that the file could not be found."
   ]
  },
  {
   "cell_type": "markdown",
   "id": "69448e61",
   "metadata": {},
   "source": [
    "# Q10"
   ]
  },
  {
   "cell_type": "code",
   "execution_count": 2,
   "id": "73495a7c",
   "metadata": {},
   "outputs": [
    {
     "name": "stdout",
     "output_type": "stream",
     "text": [
      "Enter the text: The quick red fox got bored and went home.\n",
      "[1, 1, 1, 3, 5, 1, 1, 2, 1, 0, 1, 0, 1, 2, 4, 0, 1, 2, 0, 3, 1, 0, 1, 1, 0, 0]\n",
      "Enter the text: apple\n",
      "[1, 0, 0, 0, 1, 0, 0, 0, 0, 0, 0, 1, 0, 0, 0, 2, 0, 0, 0, 0, 0, 0, 0, 0, 0, 0]\n"
     ]
    }
   ],
   "source": [
    "def frequencies(text):\n",
    "    freq_dict = {}\n",
    "\n",
    "    for char in text.lower():\n",
    "        if char.isalpha():\n",
    "            if char in freq_dict:\n",
    "                freq_dict[char] += 1\n",
    "            else:\n",
    "                freq_dict[char] = 1\n",
    "\n",
    "    freq_list = [freq_dict.get(chr(ord('a') + i), 0) for i in range(26)]\n",
    "    return freq_list\n",
    "\n",
    "# Example usage\n",
    "text = input(\"Enter the text: \")\n",
    "result = frequencies(text)\n",
    "print(result)\n",
    "\n",
    "# Example usage\n",
    "text1 = input(\"Enter the text: \")\n",
    "result = frequencies(text1)\n",
    "print(result)\n",
    "\n"
   ]
  },
  {
   "cell_type": "code",
   "execution_count": null,
   "id": "7eed43fd",
   "metadata": {},
   "outputs": [],
   "source": []
  },
  {
   "cell_type": "code",
   "execution_count": null,
   "id": "e70aeec9",
   "metadata": {},
   "outputs": [],
   "source": []
  }
 ],
 "metadata": {
  "kernelspec": {
   "display_name": "Python 3 (ipykernel)",
   "language": "python",
   "name": "python3"
  },
  "language_info": {
   "codemirror_mode": {
    "name": "ipython",
    "version": 3
   },
   "file_extension": ".py",
   "mimetype": "text/x-python",
   "name": "python",
   "nbconvert_exporter": "python",
   "pygments_lexer": "ipython3",
   "version": "3.10.9"
  }
 },
 "nbformat": 4,
 "nbformat_minor": 5
}
