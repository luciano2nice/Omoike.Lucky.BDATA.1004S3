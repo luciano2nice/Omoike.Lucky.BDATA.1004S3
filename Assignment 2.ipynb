{
 "cells": [
  {
   "cell_type": "markdown",
   "id": "e5bc799a",
   "metadata": {},
   "source": [
    "# Q1\n"
   ]
  },
  {
   "cell_type": "code",
   "execution_count": 80,
   "id": "a24e299a",
   "metadata": {},
   "outputs": [],
   "source": [
    "a = 0\n",
    "def b():\n",
    "    global a\n",
    "    a = c(a)\n",
    "    \n",
    "def c(a):\n",
    "    return a + 2"
   ]
  },
  {
   "cell_type": "code",
   "execution_count": 81,
   "id": "44fcce16",
   "metadata": {},
   "outputs": [],
   "source": [
    "b()"
   ]
  },
  {
   "cell_type": "code",
   "execution_count": 82,
   "id": "be5ef4df",
   "metadata": {},
   "outputs": [],
   "source": [
    "b()"
   ]
  },
  {
   "cell_type": "code",
   "execution_count": 83,
   "id": "192f66b8",
   "metadata": {},
   "outputs": [],
   "source": [
    "b()"
   ]
  },
  {
   "cell_type": "code",
   "execution_count": 84,
   "id": "88238712",
   "metadata": {},
   "outputs": [
    {
     "data": {
      "text/plain": [
       "6"
      ]
     },
     "execution_count": 84,
     "metadata": {},
     "output_type": "execute_result"
    }
   ],
   "source": [
    "a"
   ]
  },
  {
   "cell_type": "markdown",
   "id": "1553b79b",
   "metadata": {},
   "source": [
    "\n",
    "\n",
    "The function b() is executed. The global keyword global an is used within b() to indicate that the variable a being referred to is the module's global variable a, not a local variable. The function c(a) is called, and the current value of a (which is 0) is sent to it. The value of an is incremented by 2 inside c(a), resulting in 2. In the module, the modified value of a (which is now 2) is assigned to the global variable a. The execution of b() has ended. For the second time, run b():\n",
    "\n",
    "The function b() is invoked once more. The global keyword global an is used within b() to indicate that the variable a being referred to is the module's global variable a. The function c(a) is called, and the current value of a (which is 2) is sent to it. The value of an is increased by 2 inside c(a), resulting in 4. The module assigns the revised value of a (which is now 4) to the global variable a. The execution of b() has ended. For the third time, run b():\n",
    "\n",
    "The function b() is called again. The global keyword global an is used within b() to indicate that the variable a being referred to is the module's global variable a. The function c(a) is called, and the current value of a (which is 4) is sent to it. The value of an is incremented by 2 inside c(a), yielding 6. In the module, the modified value of a (which is now 6) is assigned to the global variable a. The execution of b() has ended. Considering a:\n",
    "\n",
    "When an is evaluated, it refers to the module's global variable a. The current value of the global variable an is 6, as shown in the output. As a result, the value presented when an is evaluated following the execution of the given code is 6."
   ]
  },
  {
   "cell_type": "markdown",
   "id": "cc108506",
   "metadata": {},
   "source": [
    "# Q2"
   ]
  },
  {
   "cell_type": "code",
   "execution_count": 86,
   "id": "3bce23f4",
   "metadata": {},
   "outputs": [
    {
     "name": "stdout",
     "output_type": "stream",
     "text": [
      "The length of 'fileLength.txt' is 123 characters.\n"
     ]
    }
   ],
   "source": [
    "def fileLength(filename):\n",
    "    try:\n",
    "        with open(filename, 'r') as file:\n",
    "            contents = file.read()\n",
    "            length = len(contents)\n",
    "            return length\n",
    "    except FileNotFoundError:\n",
    "        print(f\"File '{filename}' not found.\")\n",
    "    except IOError:\n",
    "        print(f\"Error reading file '{filename}'.\")\n",
    "\n",
    "# Example usage\n",
    "filename = 'fileLength.txt'\n",
    "length = fileLength(filename)\n",
    "if length is not None:\n",
    "    print(f\"The length of '{filename}' is {length} characters.\")\n"
   ]
  },
  {
   "cell_type": "markdown",
   "id": "19773195",
   "metadata": {},
   "source": [
    "# Q3"
   ]
  },
  {
   "cell_type": "code",
   "execution_count": 87,
   "id": "47419164",
   "metadata": {},
   "outputs": [
    {
     "name": "stdout",
     "output_type": "stream",
     "text": [
      "['doll', 'firetruck', 'kitten']\n"
     ]
    }
   ],
   "source": [
    "class Marsupial:\n",
    "    def __init__(self):\n",
    "        self.pouch = []\n",
    "\n",
    "    def put_in_pouch(self, item):\n",
    "        self.pouch.append(item)\n",
    "\n",
    "    def pouch_contents(self):\n",
    "        return self.pouch\n",
    "m = Marsupial()\n",
    "m.put_in_pouch('doll')\n",
    "m.put_in_pouch('firetruck')\n",
    "m.put_in_pouch('kitten')\n",
    "contents = m.pouch_contents()\n",
    "print(contents)"
   ]
  },
  {
   "cell_type": "code",
   "execution_count": 88,
   "id": "28902823",
   "metadata": {},
   "outputs": [
    {
     "name": "stdout",
     "output_type": "stream",
     "text": [
      "I am a Kangaroo located at coordinates (0, 0)\n"
     ]
    }
   ],
   "source": [
    "class Kangaroo(Marsupial):\n",
    "    def __init__(self, x=0, y=0):\n",
    "        super().__init__()\n",
    "        self.x = x\n",
    "        self.y = y\n",
    "\n",
    "    def jump(self, dx, dy):\n",
    "        self.x += dx\n",
    "        self.y += dy\n",
    "\n",
    "    def __str__(self):\n",
    "        return f\"I am a Kangaroo located at coordinates ({self.x}, {self.y})\"\n",
    "\n",
    "\n",
    "k = Kangaroo(0,0)\n",
    "print(k)"
   ]
  },
  {
   "cell_type": "code",
   "execution_count": 89,
   "id": "48b6a799",
   "metadata": {},
   "outputs": [
    {
     "data": {
      "text/plain": [
       "['doll', 'firetruck', 'kitten']"
      ]
     },
     "execution_count": 89,
     "metadata": {},
     "output_type": "execute_result"
    }
   ],
   "source": [
    "k.put_in_pouch('doll')\n",
    "k.put_in_pouch('firetruck')\n",
    "k.put_in_pouch('kitten')\n",
    "k.pouch_contents()\n",
    "['doll', 'firetruck', 'kitten']\n"
   ]
  },
  {
   "cell_type": "code",
   "execution_count": 90,
   "id": "4ada911c",
   "metadata": {},
   "outputs": [
    {
     "name": "stdout",
     "output_type": "stream",
     "text": [
      "I am a Kangaroo located at coordinates (3, 0)\n"
     ]
    }
   ],
   "source": [
    "k.jump(1,0)\n",
    "k.jump(1,0)\n",
    "k.jump(1,0)\n",
    "print(k)"
   ]
  },
  {
   "cell_type": "markdown",
   "id": "ea45bb45",
   "metadata": {},
   "source": [
    "# Q4"
   ]
  },
  {
   "cell_type": "code",
   "execution_count": 94,
   "id": "044ef996",
   "metadata": {},
   "outputs": [],
   "source": [
    "def collatz(x):\n",
    "    print(x)\n",
    "\n",
    "    if x == 1:\n",
    "        return\n",
    "\n",
    "    if x % 2 == 0:\n",
    "        collatz(x // 2)\n",
    "    else:\n",
    "        collatz(3 * x + 1)"
   ]
  },
  {
   "cell_type": "code",
   "execution_count": 95,
   "id": "39970e8a",
   "metadata": {},
   "outputs": [
    {
     "name": "stdout",
     "output_type": "stream",
     "text": [
      "1\n"
     ]
    }
   ],
   "source": [
    "collatz(1)"
   ]
  },
  {
   "cell_type": "code",
   "execution_count": 96,
   "id": "d5b8485c",
   "metadata": {},
   "outputs": [
    {
     "name": "stdout",
     "output_type": "stream",
     "text": [
      "10\n",
      "5\n",
      "16\n",
      "8\n",
      "4\n",
      "2\n",
      "1\n"
     ]
    }
   ],
   "source": [
    "collatz(10)"
   ]
  },
  {
   "cell_type": "markdown",
   "id": "a6dc932d",
   "metadata": {},
   "source": [
    "# Q5"
   ]
  },
  {
   "cell_type": "code",
   "execution_count": 104,
   "id": "14ff673b",
   "metadata": {},
   "outputs": [
    {
     "name": "stdout",
     "output_type": "stream",
     "text": [
      "0\n",
      "1\n",
      "11\n",
      "1001\n"
     ]
    }
   ],
   "source": [
    "def binary(n):\n",
    "    if n > 1:\n",
    "        binary(n // 2)\n",
    "    print(n % 2, end='')\n",
    "binary(0)\n",
    "print()\n",
    "binary(1)\n",
    "print()\n",
    "binary(3)\n",
    "print()\n",
    "binary(9)\n",
    "print()"
   ]
  },
  {
   "cell_type": "markdown",
   "id": "1a932415",
   "metadata": {},
   "source": [
    "# Q6"
   ]
  },
  {
   "cell_type": "code",
   "execution_count": 98,
   "id": "c1f9a64d",
   "metadata": {},
   "outputs": [
    {
     "name": "stdout",
     "output_type": "stream",
     "text": [
      "W3C Mission\n",
      " Principles\n"
     ]
    }
   ],
   "source": [
    "from html.parser import HTMLParser\n",
    "\n",
    "class HeadingParser(HTMLParser):\n",
    "    def __init__(self):\n",
    "        super().__init__()\n",
    "        self.headings = []\n",
    "        self.indentation = 0\n",
    "        self.skip_next_data = False\n",
    "\n",
    "    def handle_starttag(self, tag, attrs):\n",
    "        if tag.startswith(\"h\"):\n",
    "            try:\n",
    "                self.indentation = int(tag[1:]) - 1\n",
    "            except ValueError:\n",
    "                pass\n",
    "\n",
    "    def handle_endtag(self, tag):\n",
    "        if tag.startswith(\"h\"):\n",
    "            self.indentation = 0\n",
    "\n",
    "    def handle_data(self, data):\n",
    "        if self.skip_next_data:\n",
    "            self.skip_next_data = False\n",
    "            return\n",
    "\n",
    "        if data.strip() and self.indentation >= 0:\n",
    "            heading = \" \" * self.indentation + data.strip()\n",
    "            if heading == \"Change_me\":\n",
    "                self.skip_next_data = True\n",
    "            else:\n",
    "                self.headings.append(heading)\n",
    "\n",
    "    def print_headings(self):\n",
    "        for heading in self.headings:\n",
    "            print(heading)\n",
    "\n",
    "infile = open('w3c.html')\n",
    "content = infile.read()\n",
    "infile.close()\n",
    "\n",
    "hp = HeadingParser()\n",
    "hp.feed(content)\n",
    "hp.print_headings()\n"
   ]
  },
  {
   "cell_type": "markdown",
   "id": "5f397453",
   "metadata": {},
   "source": [
    "# Q7"
   ]
  },
  {
   "cell_type": "code",
   "execution_count": 2,
   "id": "befa8329",
   "metadata": {},
   "outputs": [
    {
     "name": "stdout",
     "output_type": "stream",
     "text": [
      "https://www.topuniversities.com/courses/computer-science-information-systems/guide\n",
      " https://www.igauge.in/ratings\n",
      "  https://www.facebook.com/igaugerating\n",
      "  https://twitter.com/igaugerating\n",
      "  https://www.linkedin.com/school/igaugerating/\n",
      "  https://www.instagram.com/igaugerating/\n",
      "  https://www.youtube.com/c/QSIGAUGE/\n",
      "  https://www.igauge.in/institute\n",
      "  https://www.igauge.in/institute/advisory\n",
      "  https://www.igauge.in/institute/university-rating\n",
      "  https://www.igauge.in/institute/college-rating\n",
      "  https://www.igauge.in/institute/subject-rating\n",
      "  https://www.igauge.in/institute/e-learning-rating\n",
      "  https://www.igauge.in/institute/school-rating\n",
      "  https://www.igauge.in/institute/e-learning-rating\n",
      "  https://www.igauge.in/\n",
      "  https://www.igauge.in/universities/ratings\n",
      "  https://www.igauge.in/universities/subjects\n",
      "  https://www.igauge.in/universities/e-learning\n",
      "  https://www.igauge.in/universities/e-learning\n",
      "  https://www.igauge.in/colleges/ratings\n",
      "  https://www.igauge.in/colleges/subjects\n",
      "  https://www.igauge.in/colleges/e-learning\n",
      "  https://www.igauge.in/colleges/e-learning\n",
      "  https://www.igauge.in/schools/ratings\n",
      "  https://www.igauge.in/schools/e-learning\n",
      "  https://www.igauge.in/schools/e-learning\n",
      "  https://www.igauge.in/videos\n",
      "  https://www.igauge.in/events\n",
      "  https://www.igauge.in/reports\n",
      "  https://www.igauge.in/blog\n",
      "  https://www.igauge.in/ratings/faq\n",
      "  https://www.igauge.in/contact\n",
      "  https://www.igauge.in/googlelogin/login\n",
      "  https://www.igauge.in/scholarships\n",
      "  https://www.igauge.in/\n",
      "  https://www.igauge.in/about\n",
      "  https://www.igauge.in/contact\n",
      "  https://www.igauge.in/privacy-policy\n",
      "  https://www.igauge.in/terms-conditions\n",
      "  https://www.igauge.in/events-terms-conditions\n",
      "  https://www.facebook.com/igaugerating\n",
      "  https://twitter.com/igaugerating\n",
      "  https://www.linkedin.com/school/igaugerating/\n",
      "  https://www.instagram.com/igaugerating/\n",
      "  https://www.youtube.com/c/QSIGAUGE/\n",
      "  http://www.facebook.com/sharer.php?u=https://www.igauge.in//ratings\n",
      "  https://twitter.com/share?url=https://www.igauge.in//ratings\n",
      "  http://www.linkedin.com/shareArticle?mini=true&url=https://www.igauge.in//ratings\n",
      " https://qs.topuniversities.com/student-apply-support?qs=topnav\n",
      "  https://cta-redirect.hubspot.com/cta/redirect/4668725/addc920d-5bc6-45a5-909b-525f90dd8f99\n",
      "  https://qs.topuniversities.com/apply-for-best-universities?hsLang=en\n",
      " https://qs.topuniversities.com/student-apply-support?qs=topnav&_gl=1%2A19cb3qj%2A_ga%2AODQzMzI2NzgzLjE2NTMwMzgwNTA.%2A_ga_16LPMES2GR%2AMTY4Nzc1NTkyOS40NTUuMS4xNjg3NzU3NTI3LjAuMC4w%2A_ga_YN0B3DGTTZ%2AMTY4Nzc1NTkyOS40NTguMS4xNjg3NzU3NTI3LjYwLjAuMA..&_ga=2.1\n",
      "  https://cta-redirect.hubspot.com/cta/redirect/4668725/addc920d-5bc6-45a5-909b-525f90dd8f99\n",
      "  https://qs.topuniversities.com/apply-for-best-universities?hsLang=en\n",
      " https://www.igauge.in/ratings\n",
      "  https://www.facebook.com/igaugerating\n",
      "  https://twitter.com/igaugerating\n",
      "  https://www.linkedin.com/school/igaugerating/\n",
      "  https://www.instagram.com/igaugerating/\n",
      "  https://www.youtube.com/c/QSIGAUGE/\n",
      "  https://www.igauge.in/institute\n",
      "  https://www.igauge.in/institute/advisory\n",
      "  https://www.igauge.in/institute/university-rating\n",
      "  https://www.igauge.in/institute/college-rating\n",
      "  https://www.igauge.in/institute/subject-rating\n",
      "  https://www.igauge.in/institute/e-learning-rating\n",
      "  https://www.igauge.in/institute/school-rating\n",
      "  https://www.igauge.in/institute/e-learning-rating\n",
      "  https://www.igauge.in/\n",
      "  https://www.igauge.in/universities/ratings\n",
      "  https://www.igauge.in/universities/subjects\n",
      "  https://www.igauge.in/universities/e-learning\n",
      "  https://www.igauge.in/universities/e-learning\n",
      "  https://www.igauge.in/colleges/ratings\n",
      "  https://www.igauge.in/colleges/subjects\n",
      "  https://www.igauge.in/colleges/e-learning\n",
      "  https://www.igauge.in/colleges/e-learning\n",
      "  https://www.igauge.in/schools/ratings\n",
      "  https://www.igauge.in/schools/e-learning\n",
      "  https://www.igauge.in/schools/e-learning\n",
      "  https://www.igauge.in/videos\n",
      "  https://www.igauge.in/events\n",
      "  https://www.igauge.in/reports\n",
      "  https://www.igauge.in/blog\n",
      "  https://www.igauge.in/ratings/faq\n",
      "  https://www.igauge.in/contact\n",
      "  https://www.igauge.in/googlelogin/login\n",
      "  https://www.igauge.in/scholarships\n",
      "  https://www.igauge.in/\n",
      "  https://www.igauge.in/about\n",
      "  https://www.igauge.in/contact\n",
      "  https://www.igauge.in/privacy-policy\n",
      "  https://www.igauge.in/terms-conditions\n",
      "  https://www.igauge.in/events-terms-conditions\n",
      "  https://www.facebook.com/igaugerating\n",
      "  https://twitter.com/igaugerating\n",
      "  https://www.linkedin.com/school/igaugerating/\n",
      "  https://www.instagram.com/igaugerating/\n",
      "  https://www.youtube.com/c/QSIGAUGE/\n",
      "  http://www.facebook.com/sharer.php?u=https://www.igauge.in//ratings\n",
      "  https://twitter.com/share?url=https://www.igauge.in//ratings\n",
      "  http://www.linkedin.com/shareArticle?mini=true&url=https://www.igauge.in//ratings\n",
      " https://qs.topuniversities.com/student-apply-support?qs=topnav\n",
      "  https://cta-redirect.hubspot.com/cta/redirect/4668725/addc920d-5bc6-45a5-909b-525f90dd8f99\n",
      "  https://qs.topuniversities.com/apply-for-best-universities?hsLang=en\n",
      " https://qs.topuniversities.com/student-apply-support?qs=topnav&_gl=1%2A19cb3qj%2A_ga%2AODQzMzI2NzgzLjE2NTMwMzgwNTA.%2A_ga_16LPMES2GR%2AMTY4Nzc1NTkyOS40NTUuMS4xNjg3NzU3NTI3LjAuMC4w%2A_ga_YN0B3DGTTZ%2AMTY4Nzc1NTkyOS40NTguMS4xNjg3NzU3NTI3LjYwLjAuMA..&_ga=2.1\n",
      "  https://cta-redirect.hubspot.com/cta/redirect/4668725/addc920d-5bc6-45a5-909b-525f90dd8f99\n",
      "  https://qs.topuniversities.com/apply-for-best-universities?hsLang=en\n",
      " https://qs.topuniversities.com/apply-for-best-universities?utm_source=Top+universities&utm_medium=Widget&utm_id=Right-topCTA\n",
      "  https://www.topuniversities.com/about-qs\n",
      "  https://www.topuniversities.com/contact-us\n",
      "  https://www.topuniversities.com/privacy-policy\n",
      "  https://www.topuniversities.com/user-agreement\n",
      "  https://www.topuniversities.com/cookies-policy\n",
      "  https://www.topuniversities.com/\n",
      "  https://www.facebook.com/topuniversities\n",
      "  https://twitter.com/TopUnis\n",
      "  https://www.linkedin.com/groups/64115\n",
      "  https://www.youtube.com/qstopuniversities?sub_confirmation=1\n",
      "  https://instagram.com/topunis/\n",
      " https://qs.topuniversities.com/apply-for-best-universities?utm_source=Top+universities&utm_medium=Widget&utm_id=Right-topCTA\n",
      "  https://www.topuniversities.com/about-qs\n",
      "  https://www.topuniversities.com/contact-us\n",
      "  https://www.topuniversities.com/privacy-policy\n",
      "  https://www.topuniversities.com/user-agreement\n",
      "  https://www.topuniversities.com/cookies-policy\n",
      "  https://www.topuniversities.com/\n",
      "  https://www.facebook.com/topuniversities\n",
      "  https://twitter.com/TopUnis\n",
      "  https://www.linkedin.com/groups/64115\n",
      "  https://www.youtube.com/qstopuniversities?sub_confirmation=1\n",
      "  https://instagram.com/topunis/\n",
      " https://www.topuniversities.com/university-rankings/university-subject-rankings/2016/computer-science-information-systems\n",
      "  https://www.igauge.in/ratings\n",
      "  https://qs.topuniversities.com/student-apply-support?qs=topnav\n",
      "  https://qs.topuniversities.com/student-apply-support?qs=topnav&_gl=1%2A19cb3qj%2A_ga%2AODQzMzI2NzgzLjE2NTMwMzgwNTA.%2A_ga_16LPMES2GR%2AMTY4Nzc1NTkyOS40NTUuMS4xNjg3NzU3NTI3LjAuMC4w%2A_ga_YN0B3DGTTZ%2AMTY4Nzc1NTkyOS40NTguMS4xNjg3NzU3NTI3LjYwLjAuMA..&_ga=2.1\n",
      "  https://www.igauge.in/ratings\n",
      "  https://qs.topuniversities.com/student-apply-support?qs=topnav\n",
      "  https://qs.topuniversities.com/student-apply-support?qs=topnav&_gl=1%2A19cb3qj%2A_ga%2AODQzMzI2NzgzLjE2NTMwMzgwNTA.%2A_ga_16LPMES2GR%2AMTY4Nzc1NTkyOS40NTUuMS4xNjg3NzU3NTI3LjAuMC4w%2A_ga_YN0B3DGTTZ%2AMTY4Nzc1NTkyOS40NTguMS4xNjg3NzU3NTI3LjYwLjAuMA..&_ga=2.1\n",
      "  https://qs.topuniversities.com/apply-for-best-universities?utm_source=Top+universities&utm_medium=Widget&utm_id=Right-topCTA\n",
      "  https://qs.topuniversities.com/apply-for-best-universities?utm_source=Top+universities&utm_medium=Widget&utm_id=Right-topCTA\n",
      "  https://www.topuniversities.com/events?utm_source=subjectrankings&utm_campaign=events_banner\n",
      "  https://qs.topuniversities.com/student-apply-support?utm_source=tile&utm_campaign=admission_support\n",
      "  https://www.facebook.com/topuniversities\n",
      "  https://twitter.com/TopUnis\n",
      "  https://www.linkedin.com/company/243103\n",
      "  https://www.youtube.com/qstopuniversities?sub_confirmation=1\n",
      "  https://www.instagram.com/topunis/\n",
      " https://www.topuniversities.com/university-rankings/university-subject-rankings/2022/computer-science-information-systems\n"
     ]
    },
    {
     "name": "stdout",
     "output_type": "stream",
     "text": [
      "  https://www.igauge.in/ratings\n",
      "  https://qs.topuniversities.com/student-apply-support?qs=topnav\n",
      "  https://qs.topuniversities.com/student-apply-support?qs=topnav&_gl=1%2A19cb3qj%2A_ga%2AODQzMzI2NzgzLjE2NTMwMzgwNTA.%2A_ga_16LPMES2GR%2AMTY4Nzc1NTkyOS40NTUuMS4xNjg3NzU3NTI3LjAuMC4w%2A_ga_YN0B3DGTTZ%2AMTY4Nzc1NTkyOS40NTguMS4xNjg3NzU3NTI3LjYwLjAuMA..&_ga=2.1\n",
      "  https://www.igauge.in/ratings\n",
      "  https://qs.topuniversities.com/student-apply-support?qs=topnav\n",
      "  https://qs.topuniversities.com/student-apply-support?qs=topnav&_gl=1%2A19cb3qj%2A_ga%2AODQzMzI2NzgzLjE2NTMwMzgwNTA.%2A_ga_16LPMES2GR%2AMTY4Nzc1NTkyOS40NTUuMS4xNjg3NzU3NTI3LjAuMC4w%2A_ga_YN0B3DGTTZ%2AMTY4Nzc1NTkyOS40NTguMS4xNjg3NzU3NTI3LjYwLjAuMA..&_ga=2.1\n",
      "  https://qs.topuniversities.com/apply-for-best-universities?utm_source=Top+universities&utm_medium=Widget&utm_id=Right-topCTA\n",
      "  https://qs.topuniversities.com/apply-for-best-universities?utm_source=Top+universities&utm_medium=Widget&utm_id=Right-topCTA\n",
      "  https://www.topuniversities.com/university-rankings/university-subject-rankings/2023/computer-science-information-systems\n",
      "  https://www.topuniversities.com/subject-rankings/methodology\n",
      "  https://www.topuniversities.com/subject-rankings/2022\n",
      "  https://www.topuniversities.com/subject-rankings/methodology\n",
      "  https://www.topuniversities.com/subject-rankings/2022\n",
      "  https://www.topuniversities.com/university-rankings/university-subject-rankings/2023/computer-science-information-systems\n",
      "  https://www.topuniversities.com/subject-rankings/methodology\n",
      "  https://www.topuniversities.com/subject-rankings/2022\n",
      "  https://www.topuniversities.com/subject-rankings/methodology\n",
      "  https://www.topuniversities.com/subject-rankings/2022\n",
      "  https://www.topuniversities.com/subject-rankings/methodology\n",
      "  https://www.topuniversities.com/subject-rankings/2022\n",
      "  https://www.topuniversities.com/node/3812874\n",
      "  https://www.qs.com/portfolio-items/qs-world-university-rankings-by-subject-2022/\n",
      "  https://qs.topuniversities.com/student-apply-support?utm_source=tile&utm_campaign=admission_support\n",
      "  https://www.facebook.com/topuniversities\n",
      "  https://twitter.com/TopUnis\n",
      "  https://www.linkedin.com/company/243103\n",
      "  https://www.youtube.com/qstopuniversities?sub_confirmation=1\n",
      "  https://www.instagram.com/topunis/\n",
      " https://www.topuniversities.com/courses/engineering/guide\n",
      "  https://www.igauge.in/ratings\n",
      "  https://qs.topuniversities.com/student-apply-support?qs=topnav\n",
      "  https://qs.topuniversities.com/student-apply-support?qs=topnav&_gl=1%2A19cb3qj%2A_ga%2AODQzMzI2NzgzLjE2NTMwMzgwNTA.%2A_ga_16LPMES2GR%2AMTY4Nzc1NTkyOS40NTUuMS4xNjg3NzU3NTI3LjAuMC4w%2A_ga_YN0B3DGTTZ%2AMTY4Nzc1NTkyOS40NTguMS4xNjg3NzU3NTI3LjYwLjAuMA..&_ga=2.1\n",
      "  https://www.igauge.in/ratings\n",
      "  https://qs.topuniversities.com/student-apply-support?qs=topnav\n",
      "  https://qs.topuniversities.com/student-apply-support?qs=topnav&_gl=1%2A19cb3qj%2A_ga%2AODQzMzI2NzgzLjE2NTMwMzgwNTA.%2A_ga_16LPMES2GR%2AMTY4Nzc1NTkyOS40NTUuMS4xNjg3NzU3NTI3LjAuMC4w%2A_ga_YN0B3DGTTZ%2AMTY4Nzc1NTkyOS40NTguMS4xNjg3NzU3NTI3LjYwLjAuMA..&_ga=2.1\n",
      "  https://qs.topuniversities.com/apply-for-best-universities?utm_source=Top+universities&utm_medium=Widget&utm_id=Right-topCTA\n",
      "  https://qs.topuniversities.com/apply-for-best-universities?utm_source=Top+universities&utm_medium=Widget&utm_id=Right-topCTA\n",
      "  https://www.facebook.com/topuniversities\n",
      "  https://twitter.com/TopUnis\n",
      "  https://www.linkedin.com/company/243103\n",
      "  https://www.youtube.com/qstopuniversities?sub_confirmation=1\n",
      "  https://www.instagram.com/topunis/\n",
      " https://www.topuniversities.com/courses/computer-science-information-systems/grad/guide\n",
      "  https://www.cloudflare.com/5xx-error-landing?utm_source=errorcode_525&utm_campaign=www.topuniversities.com\n",
      "  https://www.cloudflare.com/5xx-error-landing?utm_source=errorcode_525&utm_campaign=www.topuniversities.com\n",
      "  https://www.cloudflare.com/5xx-error-landing?utm_source=errorcode_525&utm_campaign=www.topuniversities.com\n",
      "  https://support.cloudflare.com/hc/en-us/articles/200278659\n",
      "  https://www.cloudflare.com/5xx-error-landing?utm_source=errorcode_525&utm_campaign=www.topuniversities.com\n",
      " https://www.topuniversities.com/universities/art-&-design?subjects=[468]\n",
      "  https://www.igauge.in/ratings\n",
      "  https://qs.topuniversities.com/student-apply-support?qs=topnav\n",
      "  https://qs.topuniversities.com/student-apply-support?qs=topnav&_gl=1%2A19cb3qj%2A_ga%2AODQzMzI2NzgzLjE2NTMwMzgwNTA.%2A_ga_16LPMES2GR%2AMTY4Nzc1NTkyOS40NTUuMS4xNjg3NzU3NTI3LjAuMC4w%2A_ga_YN0B3DGTTZ%2AMTY4Nzc1NTkyOS40NTguMS4xNjg3NzU3NTI3LjYwLjAuMA..&_ga=2.1\n",
      "  https://www.igauge.in/ratings\n",
      "  https://qs.topuniversities.com/student-apply-support?qs=topnav\n",
      "  https://qs.topuniversities.com/student-apply-support?qs=topnav&_gl=1%2A19cb3qj%2A_ga%2AODQzMzI2NzgzLjE2NTMwMzgwNTA.%2A_ga_16LPMES2GR%2AMTY4Nzc1NTkyOS40NTUuMS4xNjg3NzU3NTI3LjAuMC4w%2A_ga_YN0B3DGTTZ%2AMTY4Nzc1NTkyOS40NTguMS4xNjg3NzU3NTI3LjYwLjAuMA..&_ga=2.1\n",
      "  https://qs.topuniversities.com/apply-for-best-universities?utm_source=Top+universities&utm_medium=Widget&utm_id=Right-topCTA\n",
      "  https://qs.topuniversities.com/apply-for-best-universities?utm_source=Top+universities&utm_medium=Widget&utm_id=Right-topCTA\n",
      "  https://www.facebook.com/topuniversities\n",
      "  https://twitter.com/TopUnis\n",
      "  https://www.linkedin.com/company/243103\n",
      "  https://www.youtube.com/qstopuniversities?sub_confirmation=1\n",
      "  https://www.instagram.com/topunis/\n",
      " https://www.facebook.com/topuniversities\n",
      " https://twitter.com/TopUnis\n",
      "  https://help.twitter.com/using-twitter/twitter-supported-browsers\n",
      "  https://twitter.com/tos\n",
      "  https://twitter.com/privacy\n",
      "  https://support.twitter.com/articles/20170514\n",
      "  https://legal.twitter.com/imprint.html\n",
      "  https://business.twitter.com/en/help/troubleshooting/how-twitter-ads-work.html?ref=web-twc-ao-gbl-adsinfo&utm_source=twc&utm_medium=web&utm_campaign=ao&utm_content=adsinfo\n",
      " https://www.linkedin.com/company/243103\n",
      " https://www.youtube.com/qstopuniversities?sub_confirmation=1\n",
      "  https://www.youtube.com/about/\n",
      "  https://www.youtube.com/about/press/\n",
      "  https://www.youtube.com/about/copyright/\n",
      "  https://www.youtube.com/creators/\n",
      "  https://www.youtube.com/ads/\n",
      "  https://developers.google.com/youtube\n",
      "  https://www.youtube.com/about/policies/\n",
      "  https://www.youtube.com/howyoutubeworks?utm_campaign=ytgen&utm_source=ythp&utm_medium=LeftNav&utm_content=txt&u=https%3A%2F%2Fwww.youtube.com%2Fhowyoutubeworks%3Futm_source%3Dythp%26utm_medium%3DLeftNav%26utm_campaign%3Dytgen\n",
      " https://www.instagram.com/topunis/\n"
     ]
    }
   ],
   "source": [
    "import requests\n",
    "from bs4 import BeautifulSoup\n",
    "\n",
    "def webdir(url, depth, indent):\n",
    "    # Print the current URL with appropriate indentation\n",
    "    print(' ' * indent + url)\n",
    "\n",
    "    # Base case: depth reaches 0\n",
    "    if depth == 0:\n",
    "        return\n",
    "\n",
    "    try:\n",
    "        # Send a GET request to the URL and retrieve the page content\n",
    "        response = requests.get(url)\n",
    "        page_content = response.content\n",
    "\n",
    "        # Parse the page content using BeautifulSoup\n",
    "        soup = BeautifulSoup(page_content, 'html.parser')\n",
    "\n",
    "        # Find all anchor tags in the page\n",
    "        anchors = soup.find_all('a')\n",
    "\n",
    "        # Extract the href attribute value from each anchor tag\n",
    "        for anchor in anchors:\n",
    "            linked_url = anchor.get('href')\n",
    "            if linked_url and linked_url.startswith('http'):\n",
    "                webdir(linked_url, depth - 1, indent + 1)\n",
    "    except requests.exceptions.RequestException:\n",
    "        # Handle any request exceptions gracefully\n",
    "        print('Error: Failed to retrieve', url)\n",
    "\n",
    "# Example usage\n",
    "webdir('https://www.topuniversities.com/courses/computer-science-information-systems/guide', 2, 0)\n"
   ]
  },
  {
   "cell_type": "markdown",
   "id": "c3851aa7",
   "metadata": {},
   "source": [
    "# Q8"
   ]
  },
  {
   "cell_type": "markdown",
   "id": "77203510",
   "metadata": {},
   "source": [
    "a)."
   ]
  },
  {
   "cell_type": "markdown",
   "id": "d81d8a18",
   "metadata": {},
   "source": [
    "SELECT Temperature FROM table_name;\n"
   ]
  },
  {
   "cell_type": "markdown",
   "id": "6311ecab",
   "metadata": {},
   "source": [
    "b)."
   ]
  },
  {
   "cell_type": "markdown",
   "id": "791914e7",
   "metadata": {},
   "source": [
    "SELECT DISTINCT City FROM table_name;\n"
   ]
  },
  {
   "cell_type": "markdown",
   "id": "2cbd9077",
   "metadata": {},
   "source": [
    "c)."
   ]
  },
  {
   "cell_type": "markdown",
   "id": "3610ae4d",
   "metadata": {},
   "source": [
    "SELECT * FROM table_name WHERE Country = 'India';\n"
   ]
  },
  {
   "cell_type": "markdown",
   "id": "d9c53e93",
   "metadata": {},
   "source": [
    "d)."
   ]
  },
  {
   "cell_type": "markdown",
   "id": "171349dd",
   "metadata": {},
   "source": [
    "SELECT * FROM table_name WHERE Season = 'Fall';\n"
   ]
  },
  {
   "cell_type": "markdown",
   "id": "fb059a68",
   "metadata": {},
   "source": [
    "e)."
   ]
  },
  {
   "cell_type": "markdown",
   "id": "42b8c910",
   "metadata": {},
   "source": [
    "SELECT City, Country, Season\n",
    "FROM table_name\n",
    "WHERE Rainfall BETWEEN 200 AND 400;\n"
   ]
  },
  {
   "cell_type": "markdown",
   "id": "15b674b6",
   "metadata": {},
   "source": [
    "F)."
   ]
  },
  {
   "cell_type": "markdown",
   "id": "52cf303b",
   "metadata": {},
   "source": [
    "SELECT City, Country\n",
    "FROM table_name\n",
    "WHERE Season = 'Fall' AND Temperature > 20\n",
    "ORDER BY Temperature ASC;\n"
   ]
  },
  {
   "cell_type": "markdown",
   "id": "a7ec49ea",
   "metadata": {},
   "source": [
    "g)."
   ]
  },
  {
   "cell_type": "markdown",
   "id": "34b60fbe",
   "metadata": {},
   "source": [
    "SELECT SUM(Rainfall) AS Total_Rainfall\n",
    "FROM table_name\n",
    "WHERE City = 'Cairo';\n"
   ]
  },
  {
   "cell_type": "markdown",
   "id": "ad4e126e",
   "metadata": {},
   "source": [
    "h) "
   ]
  },
  {
   "cell_type": "markdown",
   "id": "583faccb",
   "metadata": {},
   "source": [
    "SELECT Season, SUM(Rainfall) AS Total_Rainfall\n",
    "FROM table_name\n",
    "GROUP BY Season;\n"
   ]
  },
  {
   "cell_type": "markdown",
   "id": "b93c9d7b",
   "metadata": {},
   "source": [
    "# Q9"
   ]
  },
  {
   "cell_type": "markdown",
   "id": "4fb46a1d",
   "metadata": {},
   "source": [
    "a) "
   ]
  },
  {
   "cell_type": "code",
   "execution_count": 33,
   "id": "6add956d",
   "metadata": {},
   "outputs": [],
   "source": [
    "words = ['The', 'quick', 'brown', 'fox', 'jumps', 'over',\n",
    "'the', 'lazy', 'dog']"
   ]
  },
  {
   "cell_type": "code",
   "execution_count": 35,
   "id": "71b9c9d6",
   "metadata": {},
   "outputs": [
    {
     "data": {
      "text/plain": [
       "['THE', 'QUICK', 'BROWN', 'FOX', 'JUMPS', 'OVER', 'THE', 'LAZY', 'DOG']"
      ]
     },
     "execution_count": 35,
     "metadata": {},
     "output_type": "execute_result"
    }
   ],
   "source": [
    "uppercase_words = [word.upper() for word in words]\n",
    "uppercase_words"
   ]
  },
  {
   "cell_type": "markdown",
   "id": "4ef4e2ed",
   "metadata": {},
   "source": [
    "b)"
   ]
  },
  {
   "cell_type": "code",
   "execution_count": 36,
   "id": "78ab8c24",
   "metadata": {},
   "outputs": [
    {
     "data": {
      "text/plain": [
       "['the', 'quick', 'brown', 'fox', 'jumps', 'over', 'the', 'lazy', 'dog']"
      ]
     },
     "execution_count": 36,
     "metadata": {},
     "output_type": "execute_result"
    }
   ],
   "source": [
    "lowercase_words = [word.lower() for word in words]\n",
    "lowercase_words"
   ]
  },
  {
   "cell_type": "markdown",
   "id": "c9c85d2c",
   "metadata": {},
   "source": [
    "c)"
   ]
  },
  {
   "cell_type": "code",
   "execution_count": 37,
   "id": "56551f23",
   "metadata": {},
   "outputs": [
    {
     "data": {
      "text/plain": [
       "[3, 5, 5, 3, 5, 4, 3, 4, 3]"
      ]
     },
     "execution_count": 37,
     "metadata": {},
     "output_type": "execute_result"
    }
   ],
   "source": [
    "word_lengths = [len(word) for word in words]\n",
    "word_lengths "
   ]
  },
  {
   "cell_type": "markdown",
   "id": "8e533d56",
   "metadata": {},
   "source": [
    "d)"
   ]
  },
  {
   "cell_type": "code",
   "execution_count": 38,
   "id": "4d3c2d17",
   "metadata": {},
   "outputs": [
    {
     "data": {
      "text/plain": [
       "[['THE', 'the', 3],\n",
       " ['QUICK', 'quick', 5],\n",
       " ['BROWN', 'brown', 5],\n",
       " ['FOX', 'fox', 3],\n",
       " ['JUMPS', 'jumps', 5],\n",
       " ['OVER', 'over', 4],\n",
       " ['THE', 'the', 3],\n",
       " ['LAZY', 'lazy', 4],\n",
       " ['DOG', 'dog', 3]]"
      ]
     },
     "execution_count": 38,
     "metadata": {},
     "output_type": "execute_result"
    }
   ],
   "source": [
    "word_info = [[word.upper(), word.lower(), len(word)] for word in words]\n",
    "word_info "
   ]
  },
  {
   "cell_type": "markdown",
   "id": "fcee089f",
   "metadata": {},
   "source": [
    "e)"
   ]
  },
  {
   "cell_type": "code",
   "execution_count": 39,
   "id": "3012c43b",
   "metadata": {},
   "outputs": [
    {
     "data": {
      "text/plain": [
       "['quick', 'brown', 'jumps', 'over', 'lazy']"
      ]
     },
     "execution_count": 39,
     "metadata": {},
     "output_type": "execute_result"
    }
   ],
   "source": [
    "long_words = [word for word in words if len(word) >= 4]\n",
    "long_words "
   ]
  }
 ],
 "metadata": {
  "kernelspec": {
   "display_name": "Python 3 (ipykernel)",
   "language": "python",
   "name": "python3"
  },
  "language_info": {
   "codemirror_mode": {
    "name": "ipython",
    "version": 3
   },
   "file_extension": ".py",
   "mimetype": "text/x-python",
   "name": "python",
   "nbconvert_exporter": "python",
   "pygments_lexer": "ipython3",
   "version": "3.10.9"
  }
 },
 "nbformat": 4,
 "nbformat_minor": 5
}
